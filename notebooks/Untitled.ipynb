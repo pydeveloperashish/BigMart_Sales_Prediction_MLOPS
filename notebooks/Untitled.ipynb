{
 "cells": [
  {
   "cell_type": "code",
   "execution_count": 2,
   "metadata": {},
   "outputs": [],
   "source": [
    "import os\n",
    "import pandas as pd"
   ]
  },
  {
   "cell_type": "code",
   "execution_count": 3,
   "metadata": {},
   "outputs": [],
   "source": [
    "df = pd.read_csv('data_given/train.csv')"
   ]
  },
  {
   "cell_type": "code",
   "execution_count": 4,
   "metadata": {},
   "outputs": [
    {
     "data": {
      "text/plain": [
       "Index(['Item_Identifier', 'Item_Weight', 'Item_Fat_Content', 'Item_Visibility',\n",
       "       'Item_Type', 'Item_MRP', 'Outlet_Identifier',\n",
       "       'Outlet_Establishment_Year', 'Outlet_Size', 'Outlet_Location_Type',\n",
       "       'Outlet_Type', 'Item_Outlet_Sales'],\n",
       "      dtype='object')"
      ]
     },
     "execution_count": 4,
     "metadata": {},
     "output_type": "execute_result"
    }
   ],
   "source": [
    "df.columns"
   ]
  },
  {
   "cell_type": "code",
   "execution_count": 8,
   "metadata": {},
   "outputs": [
    {
     "data": {
      "text/html": [
       "<div>\n",
       "<style scoped>\n",
       "    .dataframe tbody tr th:only-of-type {\n",
       "        vertical-align: middle;\n",
       "    }\n",
       "\n",
       "    .dataframe tbody tr th {\n",
       "        vertical-align: top;\n",
       "    }\n",
       "\n",
       "    .dataframe thead th {\n",
       "        text-align: right;\n",
       "    }\n",
       "</style>\n",
       "<table border=\"1\" class=\"dataframe\">\n",
       "  <thead>\n",
       "    <tr style=\"text-align: right;\">\n",
       "      <th></th>\n",
       "      <th>count</th>\n",
       "      <th>mean</th>\n",
       "      <th>std</th>\n",
       "      <th>min</th>\n",
       "      <th>25%</th>\n",
       "      <th>50%</th>\n",
       "      <th>75%</th>\n",
       "      <th>max</th>\n",
       "    </tr>\n",
       "  </thead>\n",
       "  <tbody>\n",
       "    <tr>\n",
       "      <th>Item_Weight</th>\n",
       "      <td>7060.0</td>\n",
       "      <td>12.857645</td>\n",
       "      <td>4.643456</td>\n",
       "      <td>4.555</td>\n",
       "      <td>8.773750</td>\n",
       "      <td>12.600000</td>\n",
       "      <td>16.850000</td>\n",
       "      <td>21.350000</td>\n",
       "    </tr>\n",
       "    <tr>\n",
       "      <th>Item_Visibility</th>\n",
       "      <td>8523.0</td>\n",
       "      <td>0.066132</td>\n",
       "      <td>0.051598</td>\n",
       "      <td>0.000</td>\n",
       "      <td>0.026989</td>\n",
       "      <td>0.053931</td>\n",
       "      <td>0.094585</td>\n",
       "      <td>0.328391</td>\n",
       "    </tr>\n",
       "    <tr>\n",
       "      <th>Item_MRP</th>\n",
       "      <td>8523.0</td>\n",
       "      <td>140.992782</td>\n",
       "      <td>62.275067</td>\n",
       "      <td>31.290</td>\n",
       "      <td>93.826500</td>\n",
       "      <td>143.012800</td>\n",
       "      <td>185.643700</td>\n",
       "      <td>266.888400</td>\n",
       "    </tr>\n",
       "    <tr>\n",
       "      <th>Outlet_Establishment_Year</th>\n",
       "      <td>8523.0</td>\n",
       "      <td>1997.831867</td>\n",
       "      <td>8.371760</td>\n",
       "      <td>1985.000</td>\n",
       "      <td>1987.000000</td>\n",
       "      <td>1999.000000</td>\n",
       "      <td>2004.000000</td>\n",
       "      <td>2009.000000</td>\n",
       "    </tr>\n",
       "    <tr>\n",
       "      <th>Item_Outlet_Sales</th>\n",
       "      <td>8523.0</td>\n",
       "      <td>2181.288914</td>\n",
       "      <td>1706.499616</td>\n",
       "      <td>33.290</td>\n",
       "      <td>834.247400</td>\n",
       "      <td>1794.331000</td>\n",
       "      <td>3101.296400</td>\n",
       "      <td>13086.964800</td>\n",
       "    </tr>\n",
       "  </tbody>\n",
       "</table>\n",
       "</div>"
      ],
      "text/plain": [
       "                            count         mean          std       min  \\\n",
       "Item_Weight                7060.0    12.857645     4.643456     4.555   \n",
       "Item_Visibility            8523.0     0.066132     0.051598     0.000   \n",
       "Item_MRP                   8523.0   140.992782    62.275067    31.290   \n",
       "Outlet_Establishment_Year  8523.0  1997.831867     8.371760  1985.000   \n",
       "Item_Outlet_Sales          8523.0  2181.288914  1706.499616    33.290   \n",
       "\n",
       "                                   25%          50%          75%           max  \n",
       "Item_Weight                   8.773750    12.600000    16.850000     21.350000  \n",
       "Item_Visibility               0.026989     0.053931     0.094585      0.328391  \n",
       "Item_MRP                     93.826500   143.012800   185.643700    266.888400  \n",
       "Outlet_Establishment_Year  1987.000000  1999.000000  2004.000000   2009.000000  \n",
       "Item_Outlet_Sales           834.247400  1794.331000  3101.296400  13086.964800  "
      ]
     },
     "execution_count": 8,
     "metadata": {},
     "output_type": "execute_result"
    }
   ],
   "source": [
    "df.describe().T"
   ]
  },
  {
   "cell_type": "code",
   "execution_count": 12,
   "metadata": {},
   "outputs": [],
   "source": [
    "overview=df.describe()"
   ]
  },
  {
   "cell_type": "code",
   "execution_count": 18,
   "metadata": {},
   "outputs": [],
   "source": [
    "overview.loc[[\"min\",\"max\"]].T.to_json(\"schema_in.json\")"
   ]
  },
  {
   "cell_type": "code",
   "execution_count": 21,
   "metadata": {},
   "outputs": [],
   "source": [
    "class NotInRange(Exception):\n",
    "    def __init__(self, message=\"Value not in range\"):\n",
    "        self.message = message\n",
    "        super().__init__(self.message)"
   ]
  },
  {
   "cell_type": "code",
   "execution_count": 22,
   "metadata": {},
   "outputs": [
    {
     "ename": "NotInRange",
     "evalue": "value not in range",
     "output_type": "error",
     "traceback": [
      "\u001b[1;31m---------------------------------------------------------------------------\u001b[0m",
      "\u001b[1;31mNotInRange\u001b[0m                                Traceback (most recent call last)",
      "\u001b[1;32m<ipython-input-22-416f06299030>\u001b[0m in \u001b[0;36m<module>\u001b[1;34m\u001b[0m\n\u001b[1;32m----> 1\u001b[1;33m \u001b[1;32mraise\u001b[0m \u001b[0mNotInRange\u001b[0m\u001b[1;33m\u001b[0m\u001b[1;33m\u001b[0m\u001b[0m\n\u001b[0m",
      "\u001b[1;31mNotInRange\u001b[0m: value not in range"
     ]
    }
   ],
   "source": [
    "raise NotInRange"
   ]
  },
  {
   "cell_type": "code",
   "execution_count": null,
   "metadata": {},
   "outputs": [],
   "source": []
  }
 ],
 "metadata": {
  "kernelspec": {
   "display_name": "Python 3",
   "language": "python",
   "name": "python3"
  },
  "language_info": {
   "codemirror_mode": {
    "name": "ipython",
    "version": 3
   },
   "file_extension": ".py",
   "mimetype": "text/x-python",
   "name": "python",
   "nbconvert_exporter": "python",
   "pygments_lexer": "ipython3",
   "version": "3.7.4"
  }
 },
 "nbformat": 4,
 "nbformat_minor": 2
}
